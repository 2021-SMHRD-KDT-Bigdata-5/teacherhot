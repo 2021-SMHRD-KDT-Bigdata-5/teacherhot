{
 "cells": [
  {
   "cell_type": "markdown",
   "metadata": {},
   "source": [
    "### 타이타닉용 분석용 서버 구축"
   ]
  },
  {
   "cell_type": "code",
   "execution_count": 1,
   "metadata": {},
   "outputs": [],
   "source": [
    "from flask import Flask # 플라스크 클래스 임포트\n",
    "from flask import request, redirect\n",
    "import pickle # 데이터 저장/로딩을 위한 모듈\n",
    "import pandas as pd\n",
    "import numpy as np"
   ]
  },
  {
   "cell_type": "code",
   "execution_count": 2,
   "metadata": {},
   "outputs": [],
   "source": [
    "def preprocessing(data_dict):\n",
    "    with open('titanic_column_name.pkl','rb') as f :\n",
    "        titanic_columns = pickle.load(f)\n",
    "    \n",
    "    df = pd.DataFrame( np.zeros((1,2)) , columns=['1','2'])\n",
    "    \n",
    "    df['1'] = data_dict['1']\n",
    "    df['2'] = data_dict['2']\n",
    "    return df"
   ]
  },
  {
   "cell_type": "code",
   "execution_count": null,
   "metadata": {},
   "outputs": [
    {
     "name": "stdout",
     "output_type": "stream",
     "text": [
      " * Serving Flask app \"__main__\" (lazy loading)\n",
      " * Environment: production\n",
      "   WARNING: This is a development server. Do not use it in a production deployment.\n",
      "   Use a production WSGI server instead.\n",
      " * Debug mode: off\n"
     ]
    },
    {
     "name": "stderr",
     "output_type": "stream",
     "text": [
      " * Running on http://localhost:9000/ (Press CTRL+C to quit)\n",
      "127.0.0.1 - - [06/Jul/2021 17:32:30] \"\u001b[32mPOST /test1 HTTP/1.1\u001b[0m\" 302 -\n",
      "127.0.0.1 - - [06/Jul/2021 17:32:37] \"\u001b[32mPOST /test2 HTTP/1.1\u001b[0m\" 302 -\n"
     ]
    },
    {
     "name": "stdout",
     "output_type": "stream",
     "text": [
      "[2]\n"
     ]
    },
    {
     "name": "stderr",
     "output_type": "stream",
     "text": [
      "127.0.0.1 - - [06/Jul/2021 17:33:21] \"\u001b[32mPOST /test1 HTTP/1.1\u001b[0m\" 302 -\n",
      "127.0.0.1 - - [06/Jul/2021 17:33:24] \"\u001b[32mPOST /test2 HTTP/1.1\u001b[0m\" 302 -\n"
     ]
    },
    {
     "name": "stdout",
     "output_type": "stream",
     "text": [
      "[2]\n"
     ]
    },
    {
     "name": "stderr",
     "output_type": "stream",
     "text": [
      "127.0.0.1 - - [06/Jul/2021 17:36:02] \"\u001b[32mPOST /test1 HTTP/1.1\u001b[0m\" 302 -\n",
      "127.0.0.1 - - [06/Jul/2021 17:36:13] \"\u001b[32mPOST /test1 HTTP/1.1\u001b[0m\" 302 -\n",
      "127.0.0.1 - - [06/Jul/2021 17:36:18] \"\u001b[32mPOST /test2 HTTP/1.1\u001b[0m\" 302 -\n"
     ]
    },
    {
     "name": "stdout",
     "output_type": "stream",
     "text": [
      "[2]\n"
     ]
    },
    {
     "name": "stderr",
     "output_type": "stream",
     "text": [
      "127.0.0.1 - - [06/Jul/2021 17:40:38] \"\u001b[32mPOST /test1 HTTP/1.1\u001b[0m\" 302 -\n",
      "127.0.0.1 - - [06/Jul/2021 17:40:44] \"\u001b[32mPOST /test2 HTTP/1.1\u001b[0m\" 302 -\n"
     ]
    },
    {
     "name": "stdout",
     "output_type": "stream",
     "text": [
      "[2]\n"
     ]
    }
   ],
   "source": [
    "\n",
    "app = Flask(__name__) # 내장변수 name을 이용해 서버를 구동시키는 객체 생성\n",
    "with open('titanic_trained_tree_model.pkl', 'rb') as f :\n",
    "    model = pickle.load(f)\n",
    "arr = {}\n",
    "@app.route(\"/test1\", methods=[\"GET\",'POST'])\n",
    "def test1() :\n",
    "    global arr\n",
    "    arr['1'] = request.form\n",
    "    return redirect(\"http://localhost:8090/NewTemplate/research3_12.jsp\")\n",
    "@app.route(\"/test2\", methods=[\"GET\",'POST'])\n",
    "def test2() :\n",
    "    global arr\n",
    "    arr['2'] = request.form\n",
    "    if request.method == 'POST' :\n",
    "        #display(request.form) #사용자가 사용하고 있는 페이지에거 post 방식으로 값을넘겨준다면 form 태그 안에 값으로 넘겨주고 받는다\n",
    "        # 넘어온 값을 전처리\n",
    "        df = preprocessing(arr)\n",
    "        pre = model.predict(df)\n",
    "        print(pre)\n",
    "        #flask 에서 예측값(모델 실행후의 결과)를 result.jsp 페이지로 넘긴다 예측값은 url(쿼리스트링 방식 사용)\n",
    "        return redirect(\"http://localhost:8090/NewTemplate/result_1.jsp?predict=\"+str(pre[0]))\n",
    "  \n",
    "    else :\n",
    "        # 넘어온 값을 전처리\n",
    "        df = preprocessing(request.args)\n",
    "        pre = model.predict(df)\n",
    "        print(pre)\n",
    "        return \"어서오세요2.\"\n",
    "\n",
    "if __name__ == \"__main__\" : # .py 파일에서 main함수 역할\n",
    "    app.run(host=\"localhost\", port=\"9000\")"
   ]
  },
  {
   "cell_type": "code",
   "execution_count": null,
   "metadata": {},
   "outputs": [],
   "source": []
  },
  {
   "cell_type": "code",
   "execution_count": null,
   "metadata": {},
   "outputs": [],
   "source": []
  }
 ],
 "metadata": {
  "kernelspec": {
   "display_name": "Python 3",
   "language": "python",
   "name": "python3"
  },
  "language_info": {
   "codemirror_mode": {
    "name": "ipython",
    "version": 3
   },
   "file_extension": ".py",
   "mimetype": "text/x-python",
   "name": "python",
   "nbconvert_exporter": "python",
   "pygments_lexer": "ipython3",
   "version": "3.8.8"
  },
  "toc": {
   "base_numbering": 1,
   "nav_menu": {},
   "number_sections": true,
   "sideBar": true,
   "skip_h1_title": false,
   "title_cell": "Table of Contents",
   "title_sidebar": "Contents",
   "toc_cell": false,
   "toc_position": {},
   "toc_section_display": true,
   "toc_window_display": false
  }
 },
 "nbformat": 4,
 "nbformat_minor": 4
}
