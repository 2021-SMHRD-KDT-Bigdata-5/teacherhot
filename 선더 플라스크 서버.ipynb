{
 "cells": [
  {
   "cell_type": "markdown",
   "metadata": {},
   "source": [
    "### 타이타닉용 분석용 서버 구축"
   ]
  },
  {
   "cell_type": "code",
   "execution_count": 11,
   "metadata": {},
   "outputs": [],
   "source": [
    "from flask import Flask # 플라스크 클래스 임포트\n",
    "from flask import request, redirect\n",
    "import pickle # 데이터 저장/로딩을 위한 모듈\n",
    "import pandas as pd\n",
    "import numpy as np"
   ]
  },
  {
   "cell_type": "code",
   "execution_count": 12,
   "metadata": {},
   "outputs": [],
   "source": [
    "def preprocessing(data_dict):\n",
    "    with open('titanic_column_name.pkl','rb') as f :\n",
    "        titanic_columns = pickle.load(f)\n",
    "    \n",
    "    df = pd.DataFrame( np.zeros((2,2)) , columns=['1','2'])\n",
    "    \n",
    "    df['1'] = data_dict['1']\n",
    "    df['2'] = data_dict['2']\n",
    "    return df"
   ]
  },
  {
   "cell_type": "code",
   "execution_count": 84,
   "metadata": {},
   "outputs": [
    {
     "name": "stdout",
     "output_type": "stream",
     "text": [
      " * Serving Flask app \"__main__\" (lazy loading)\n",
      " * Environment: production\n",
      "   WARNING: This is a development server. Do not use it in a production deployment.\n",
      "   Use a production WSGI server instead.\n",
      " * Debug mode: off\n"
     ]
    },
    {
     "name": "stderr",
     "output_type": "stream",
     "text": [
      " * Running on http://localhost:9000/ (Press CTRL+C to quit)\n",
      "127.0.0.1 - - [07/Jul/2021 15:31:39] \"\u001b[32mPOST /test1 HTTP/1.1\u001b[0m\" 302 -\n",
      "127.0.0.1 - - [07/Jul/2021 15:31:43] \"\u001b[32mPOST /test2 HTTP/1.1\u001b[0m\" 302 -\n"
     ]
    },
    {
     "name": "stdout",
     "output_type": "stream",
     "text": [
      "{'1': ImmutableMultiDict([('4', 'on'), ('5', 'on')]), '2': ImmutableMultiDict([('1', 'on'), ('5', 'on')])}\n",
      "   1  2\n",
      "0  4  1\n",
      "1  5  5\n",
      "[4 7]\n"
     ]
    },
    {
     "name": "stderr",
     "output_type": "stream",
     "text": [
      "127.0.0.1 - - [07/Jul/2021 15:34:25] \"\u001b[32mPOST /test1 HTTP/1.1\u001b[0m\" 302 -\n",
      "127.0.0.1 - - [07/Jul/2021 15:34:45] \"\u001b[32mPOST /test2 HTTP/1.1\u001b[0m\" 302 -\n"
     ]
    },
    {
     "name": "stdout",
     "output_type": "stream",
     "text": [
      "{'1': ImmutableMultiDict([('4', 'on'), ('6', 'on')]), '2': ImmutableMultiDict([('10', 'on'), ('16', 'on')])}\n",
      "   1   2\n",
      "0  4  10\n",
      "1  6  16\n",
      "[10 16]\n"
     ]
    },
    {
     "name": "stderr",
     "output_type": "stream",
     "text": [
      "127.0.0.1 - - [07/Jul/2021 15:36:54] \"\u001b[32mPOST /test1 HTTP/1.1\u001b[0m\" 302 -\n",
      "127.0.0.1 - - [07/Jul/2021 15:37:06] \"\u001b[32mPOST /test2 HTTP/1.1\u001b[0m\" 302 -\n"
     ]
    },
    {
     "name": "stdout",
     "output_type": "stream",
     "text": [
      "{'1': ImmutableMultiDict([('1', 'on'), ('2', 'on')]), '2': ImmutableMultiDict([('1', 'on'), ('4', 'on')])}\n",
      "   1  2\n",
      "0  1  1\n",
      "1  2  4\n",
      "[1 4]\n"
     ]
    }
   ],
   "source": [
    "import json\n",
    "app = Flask(__name__) # 내장변수 name을 이용해 서버를 구동시키는 객체 생성\n",
    "with open('titanic_trained_tree_model.pkl', 'rb') as f :\n",
    "    model = pickle.load(f)\n",
    "arr = {}\n",
    "@app.route(\"/test1\", methods=[\"GET\",'POST'])\n",
    "def test1() :\n",
    "    global arr\n",
    "    arr['1'] = request.form\n",
    "    json_val = json.dumps(arr['1'].to_dict(flat=False))\n",
    "\n",
    "    if(json_val[2]=='1'and json_val[15]=='2'):\n",
    "        return redirect(\"http://localhost:8090/NewTemplate/research3_12.jsp\")\n",
    "    elif(json_val[2]=='4'and json_val[15] =='6'):\n",
    "        return redirect(\"http://localhost:8090/NewTemplate/research3_46.jsp\")\n",
    "    elif(json_val[2]=='1'):\n",
    "        return redirect(\"http://localhost:8090/NewTemplate/research3_bph.jsp\")\n",
    "    else:\n",
    "        return redirect(\"http://localhost:8090/NewTemplate/research3_12.jsp\")\n",
    "@app.route(\"/test2\", methods=[\"GET\",'POST'])\n",
    "def test2() :\n",
    "    global arr\n",
    "    arr['2'] = request.form\n",
    "    \n",
    "    if request.method == 'POST' :\n",
    "        print(arr)\n",
    "        df = preprocessing(arr)\n",
    "        print(df)\n",
    "        pre = model.predict(df)\n",
    "        print(pre)\n",
    "\n",
    "        \n",
    "        return redirect(\"http://localhost:8090/NewTemplate/result_first.jsp?predict1=\"+str(pre[0])+\"&predict2=\"+str(pre[1]))\n",
    "  \n",
    "    else :\n",
    "        # 넘어온 값을 전처리\n",
    "        df = preprocessing(request.args)\n",
    "        pre = model.predict(df)\n",
    "        print(pre)\n",
    "        return \"어서오세요2.\"\n",
    "\n",
    "if __name__ == \"__main__\" : # .py 파일에서 main함수 역할\n",
    "    app.run(host=\"localhost\", port=\"9000\")"
   ]
  },
  {
   "cell_type": "code",
   "execution_count": 80,
   "metadata": {},
   "outputs": [
    {
     "data": {
      "text/plain": [
       "'3'"
      ]
     },
     "execution_count": 80,
     "metadata": {},
     "output_type": "execute_result"
    }
   ],
   "source": [
    "json_val[15]"
   ]
  },
  {
   "cell_type": "code",
   "execution_count": 72,
   "metadata": {},
   "outputs": [
    {
     "data": {
      "text/plain": [
       "'{\"2\": [\"on\"], \"3\": [\"on\"]}'"
      ]
     },
     "execution_count": 72,
     "metadata": {},
     "output_type": "execute_result"
    }
   ],
   "source": [
    "json_val"
   ]
  }
 ],
 "metadata": {
  "kernelspec": {
   "display_name": "Python 3",
   "language": "python",
   "name": "python3"
  },
  "language_info": {
   "codemirror_mode": {
    "name": "ipython",
    "version": 3
   },
   "file_extension": ".py",
   "mimetype": "text/x-python",
   "name": "python",
   "nbconvert_exporter": "python",
   "pygments_lexer": "ipython3",
   "version": "3.8.8"
  },
  "toc": {
   "base_numbering": 1,
   "nav_menu": {},
   "number_sections": true,
   "sideBar": true,
   "skip_h1_title": false,
   "title_cell": "Table of Contents",
   "title_sidebar": "Contents",
   "toc_cell": false,
   "toc_position": {},
   "toc_section_display": true,
   "toc_window_display": false
  }
 },
 "nbformat": 4,
 "nbformat_minor": 4
}
